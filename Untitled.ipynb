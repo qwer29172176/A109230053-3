{
 "cells": [
  {
   "cell_type": "code",
   "execution_count": null,
   "metadata": {},
   "outputs": [],
   "source": [
    "str1='Hello'+\\\n",
    "    \"Python,Let's learning\"\n",
    "str2=\"Python now\"\n",
    "str3=str1+str2\n",
    "print(str3)"
   ]
  },
  {
   "cell_type": "code",
   "execution_count": null,
   "metadata": {},
   "outputs": [],
   "source": [
    "a=5/2+5//2+2**3+5%2\n",
    "print(a)"
   ]
  },
  {
   "cell_type": "code",
   "execution_count": null,
   "metadata": {},
   "outputs": [],
   "source": [
    "94a"
   ]
  },
  {
   "cell_type": "code",
   "execution_count": 11,
   "metadata": {},
   "outputs": [
    {
     "name": "stdout",
     "output_type": "stream",
     "text": [
      "Please enter a height:23.5\n",
      "Please enter a weight:19\n",
      "446.5\n"
     ]
    }
   ],
   "source": [
    "height=eval(input('Please enter a height:'))\n",
    "weight=eval(input('Please enter a weight:'))\n",
    "print(height*weight)"
   ]
  },
  {
   "cell_type": "code",
   "execution_count": 12,
   "metadata": {},
   "outputs": [
    {
     "name": "stdout",
     "output_type": "stream",
     "text": [
      "Please enter a height:23.5\n",
      "Please enter a weight:19\n",
      "85.0\n"
     ]
    }
   ],
   "source": [
    "height=eval(input('Please enter a height:'))\n",
    "weight=eval(input('Please enter a weight:'))\n",
    "print((height+weight)*2)"
   ]
  },
  {
   "cell_type": "code",
   "execution_count": null,
   "metadata": {},
   "outputs": [],
   "source": [
    "4**3"
   ]
  },
  {
   "cell_type": "code",
   "execution_count": null,
   "metadata": {},
   "outputs": [],
   "source": [
    "4**(1/2)"
   ]
  },
  {
   "cell_type": "code",
   "execution_count": 10,
   "metadata": {},
   "outputs": [
    {
     "name": "stdout",
     "output_type": "stream",
     "text": [
      "Please enter a height12\n",
      "Height=10.39\n",
      "Area=62.35\n"
     ]
    }
   ],
   "source": [
    "s=eval(input('Please enter a height'))\n",
    "Height=((3**(1/2)/2)*s)\n",
    "print('Height=%.2f'%(Height))\n",
    "Area=((3**(1/2)/4)*s*s)\n",
    "print('Area=%.2f'%(Area))"
   ]
  },
  {
   "cell_type": "code",
   "execution_count": null,
   "metadata": {},
   "outputs": [],
   "source": [
    "import math"
   ]
  },
  {
   "cell_type": "code",
   "execution_count": 9,
   "metadata": {},
   "outputs": [
    {
     "name": "stdout",
     "output_type": "stream",
     "text": [
      "Please enter a min10\n",
      "Please enter a sec25\n",
      "Please enter a km3\n",
      "10.8\n"
     ]
    }
   ],
   "source": [
    "x=eval(input('Please enter a min'))\n",
    "y=eval(input('Please enter a sec'))\n",
    "z=eval(input('Please enter a km'))\n",
    "Speed=((z/1.6)/((x*1/60)+(y*1/3600)))\n",
    "print(Speed)"
   ]
  },
  {
   "cell_type": "code",
   "execution_count": 13,
   "metadata": {},
   "outputs": [],
   "source": [
    "import os"
   ]
  },
  {
   "cell_type": "code",
   "execution_count": 15,
   "metadata": {},
   "outputs": [
    {
     "data": {
      "text/plain": [
       "'C:\\\\Users\\\\A109230053'"
      ]
     },
     "execution_count": 15,
     "metadata": {},
     "output_type": "execute_result"
    }
   ],
   "source": [
    "os.getcwd()"
   ]
  },
  {
   "cell_type": "code",
   "execution_count": null,
   "metadata": {},
   "outputs": [],
   "source": []
  }
 ],
 "metadata": {
  "kernelspec": {
   "display_name": "Python 3",
   "language": "python",
   "name": "python3"
  }
 },
 "nbformat": 4,
 "nbformat_minor": 2
}
